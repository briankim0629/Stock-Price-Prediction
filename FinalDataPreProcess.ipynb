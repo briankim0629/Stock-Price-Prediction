{
  "nbformat": 4,
  "nbformat_minor": 0,
  "metadata": {
    "colab": {
      "provenance": []
    },
    "kernelspec": {
      "name": "python3",
      "display_name": "Python 3"
    },
    "language_info": {
      "name": "python"
    }
  },
  "cells": [
    {
      "cell_type": "code",
      "execution_count": null,
      "metadata": {
        "colab": {
          "base_uri": "https://localhost:8080/"
        },
        "id": "-yoTIhud4ueS",
        "outputId": "a849124c-7f1c-4bd6-d781-83e0fb920cbc"
      },
      "outputs": [
        {
          "output_type": "stream",
          "name": "stdout",
          "text": [
            "Collecting pandas_ta\n",
            "  Downloading pandas_ta-0.3.14b.tar.gz (115 kB)\n",
            "\u001b[?25l     \u001b[90m━━━━━━━━━━━━━━━━━━━━━━━━━━━━━━━━━━━━━━━━\u001b[0m \u001b[32m0.0/115.1 kB\u001b[0m \u001b[31m?\u001b[0m eta \u001b[36m-:--:--\u001b[0m\r\u001b[2K     \u001b[91m━━━━━━━━━━━━━━━━━━━━━\u001b[0m\u001b[90m╺\u001b[0m\u001b[90m━━━━━━━━━━━━━━━━━━\u001b[0m \u001b[32m61.4/115.1 kB\u001b[0m \u001b[31m1.6 MB/s\u001b[0m eta \u001b[36m0:00:01\u001b[0m\r\u001b[2K     \u001b[90m━━━━━━━━━━━━━━━━━━━━━━━━━━━━━━━━━━━━━━━━\u001b[0m \u001b[32m115.1/115.1 kB\u001b[0m \u001b[31m1.8 MB/s\u001b[0m eta \u001b[36m0:00:00\u001b[0m\n",
            "\u001b[?25h  Preparing metadata (setup.py) ... \u001b[?25l\u001b[?25hdone\n",
            "Requirement already satisfied: pandas in /usr/local/lib/python3.10/dist-packages (from pandas_ta) (2.0.3)\n",
            "Requirement already satisfied: python-dateutil>=2.8.2 in /usr/local/lib/python3.10/dist-packages (from pandas->pandas_ta) (2.8.2)\n",
            "Requirement already satisfied: pytz>=2020.1 in /usr/local/lib/python3.10/dist-packages (from pandas->pandas_ta) (2023.4)\n",
            "Requirement already satisfied: tzdata>=2022.1 in /usr/local/lib/python3.10/dist-packages (from pandas->pandas_ta) (2024.1)\n",
            "Requirement already satisfied: numpy>=1.21.0 in /usr/local/lib/python3.10/dist-packages (from pandas->pandas_ta) (1.25.2)\n",
            "Requirement already satisfied: six>=1.5 in /usr/local/lib/python3.10/dist-packages (from python-dateutil>=2.8.2->pandas->pandas_ta) (1.16.0)\n",
            "Building wheels for collected packages: pandas_ta\n",
            "  Building wheel for pandas_ta (setup.py) ... \u001b[?25l\u001b[?25hdone\n",
            "  Created wheel for pandas_ta: filename=pandas_ta-0.3.14b0-py3-none-any.whl size=218907 sha256=6f7b8bb6e5850c1937f6d723b233051c95f948e91a399097ba0ed51296d0de9d\n",
            "  Stored in directory: /root/.cache/pip/wheels/69/00/ac/f7fa862c34b0e2ef320175100c233377b4c558944f12474cf0\n",
            "Successfully built pandas_ta\n",
            "Installing collected packages: pandas_ta\n",
            "Successfully installed pandas_ta-0.3.14b0\n"
          ]
        }
      ],
      "source": [
        "!pip install pandas_ta"
      ]
    },
    {
      "cell_type": "code",
      "source": [
        "import yfinance as yf\n",
        "import pandas_ta as ta\n",
        "import pandas as pd\n",
        "import numpy as np\n",
        "\n",
        "\n",
        "from google.colab import drive\n",
        "drive.mount('/content/drive')"
      ],
      "metadata": {
        "colab": {
          "base_uri": "https://localhost:8080/"
        },
        "id": "GyvEs7fQ491J",
        "outputId": "728efe8e-0f05-4311-8a35-19a1460a3c1b"
      },
      "execution_count": null,
      "outputs": [
        {
          "output_type": "stream",
          "name": "stdout",
          "text": [
            "Mounted at /content/drive\n"
          ]
        }
      ]
    },
    {
      "cell_type": "code",
      "source": [
        "def compute_indicators(stock_data):\n",
        "    # Compute ATR\n",
        "    atr = ta.atr(high=stock_data['High'],\n",
        "                        low=stock_data['Low'],\n",
        "                        close=stock_data['Close'],\n",
        "                        length=14)\n",
        "    atr_normalized = (atr - atr.mean()) / atr.std()\n",
        "\n",
        "    # Compute MACD\n",
        "    macd = ta.macd(close=stock_data['Close'], length=20).iloc[:, 0]\n",
        "    macd_normalized = (macd - macd.mean()) / macd.std()\n",
        "\n",
        "    # Compute dollar volume\n",
        "    dollar_volume = (stock_data['Adj Close'] * stock_data['Volume']) / 1e6\n",
        "\n",
        "    return atr_normalized, macd_normalized, dollar_volume"
      ],
      "metadata": {
        "id": "AdK_EpIcFkDg"
      },
      "execution_count": null,
      "outputs": []
    },
    {
      "cell_type": "code",
      "source": [
        "def merge_dataframes(df1, df2):\n",
        "    # Calculate the difference and percent change for the first dataframe\n",
        "    df1['Close_Change'] = df1['Close'].diff()\n",
        "    df1['Close_Percent_Change'] = df1['Close'].pct_change() * 100\n",
        "\n",
        "    # Save the old column names of the second dataframe\n",
        "    old_columns = list(df2.columns)\n",
        "\n",
        "    # Rename the columns of the second dataframe\n",
        "    df2.columns = [\"num\", \"date\", \"Question\", \"Username\", \"Link\", \"SubjectParagraph\"]\n",
        "\n",
        "    # Create a new DataFrame with the old columns as the first row\n",
        "    new_df = pd.DataFrame([old_columns], columns=df2.columns)\n",
        "\n",
        "    # Concatenate the new DataFrame with the second DataFrame\n",
        "    df2 = pd.concat([new_df, df2], ignore_index=True)\n",
        "\n",
        "    # Convert the 'date' column to datetime format and set it as index for the second dataframe\n",
        "    df2['date'] = pd.to_datetime(df2['date'], format='%Y-%m-%d')\n",
        "    df2.set_index('date', inplace=True)\n",
        "\n",
        "    df1 = df1.loc[~df1.index.duplicated(keep='first')]\n",
        "    df2 = df2.loc[~df2.index.duplicated(keep='first')]\n",
        "\n",
        "    common_dates =df1.index.intersection(df2.index)\n",
        "    df1_common = df1.loc[common_dates]\n",
        "    df2_common = df2.loc[common_dates]\n",
        "\n",
        "    # Merge the two dataframes based on the date index using outer join\n",
        "    result_df = df1_common.merge(df2_common, left_index=True, right_index=True, how='outer')\n",
        "\n",
        "    result_df['garman_klass_vol'] = ((np.log(result_df['High']) - np.log(result_df['Low'])) ** 2) / 2 - (2 * np.log(2) - 1) * ((np.log(result_df['Adj Close']) - np.log(result_df['Open'])) ** 2)\n",
        "    result_df['rsi'] = ta.rsi(close=result_df['Adj Close'], length=14)\n",
        "    result_df['rsi_standardized'] = (result_df['rsi'] - result_df['rsi'].mean()) / result_df['rsi'].std()\n",
        "    bbands_df = ta.bbands(close=np.log1p(result_df['Adj Close']), length=20)\n",
        "    result_df['bb_low'] = bbands_df.iloc[:, 0]\n",
        "    result_df['bb_mid'] = bbands_df.iloc[:, 1]\n",
        "    result_df['bb_high'] = bbands_df.iloc[:, 2]\n",
        "\n",
        "    atr, macd, dollar_volume = compute_indicators(result_df)\n",
        "    result_df['atr'] = atr\n",
        "    result_df['macd'] = macd\n",
        "    result_df['dollar_volume'] = dollar_volume\n",
        "\n",
        "    return result_df"
      ],
      "metadata": {
        "id": "182qXGb9DEQ4"
      },
      "execution_count": null,
      "outputs": []
    },
    {
      "cell_type": "code",
      "source": [
        "# Downloading data for AAPL for the year 2020\n",
        "dataAAPL = yf.download('AAPL', start='2010-01-01', end='2020-12-31')\n",
        "dataMSFT = yf.download('MSFT', start='2010-01-01', end='2020-12-31' )\n",
        "dataNVDA = yf.download('NVDA', start='2010-01-01', end='2020-12-31' )\n",
        "dataTSLA = yf.download('TSLA', start='2010-01-01', end='2020-12-31' )\n",
        "\n",
        "# Calculating the daily close change and percentage change\n",
        "# dataAAPL['Close_Change'] = data['Close'].diff()\n",
        "# dataAAPL['Close_Percent_Change'] = data['Close'].pct_change() * 100\n",
        "applestock = pd.read_csv('/content/drive/MyDrive/data/stockapple.csv')\n",
        "teslastock = pd.read_csv('/content/drive/MyDrive/data/stocktesla.csv')\n",
        "nvidiastock = pd.read_csv('/content/drive/MyDrive/data/stocknvidia.csv')\n",
        "microsoftstock = pd.read_csv('/content/drive/MyDrive/data/stockmicrosoft.csv')\n",
        "\n",
        "resultapple = merge_dataframes(dataAAPL,applestock)\n",
        "resulttesla = merge_dataframes(dataTSLA,teslastock)\n",
        "resultnvidia = merge_dataframes(dataNVDA,nvidiastock)\n",
        "resultmicrosoft = merge_dataframes(dataMSFT,microsoftstock)"
      ],
      "metadata": {
        "colab": {
          "base_uri": "https://localhost:8080/"
        },
        "id": "WELzo6ZaDE10",
        "outputId": "dfce9f26-d3ad-493c-e99d-82f4efa5fe13"
      },
      "execution_count": null,
      "outputs": [
        {
          "output_type": "stream",
          "name": "stderr",
          "text": [
            "[*********************100%%**********************]  1 of 1 completed\n",
            "[*********************100%%**********************]  1 of 1 completed\n",
            "[*********************100%%**********************]  1 of 1 completed\n",
            "[*********************100%%**********************]  1 of 1 completed\n"
          ]
        }
      ]
    },
    {
      "cell_type": "code",
      "source": [
        "result_df = pd.concat([resultapple, resultmicrosoft,resultnvidia,resultmicrosoft], ignore_index=True)"
      ],
      "metadata": {
        "id": "t-GwB5HF5HWt"
      },
      "execution_count": null,
      "outputs": []
    },
    {
      "cell_type": "code",
      "source": [
        "result_df = result_df.drop(['num','Question','Username','Link','Close_Change','Adj Close','rsi'],axis =1)"
      ],
      "metadata": {
        "id": "OOPLAm2T7hvu"
      },
      "execution_count": null,
      "outputs": []
    },
    {
      "cell_type": "code",
      "source": [
        "result_df.shape"
      ],
      "metadata": {
        "colab": {
          "base_uri": "https://localhost:8080/"
        },
        "id": "iOjwSkkSIxxg",
        "outputId": "aeedb5df-3f36-4f11-85b1-0075d9a65dfd"
      },
      "execution_count": null,
      "outputs": [
        {
          "output_type": "execute_result",
          "data": {
            "text/plain": [
              "(2405, 15)"
            ]
          },
          "metadata": {},
          "execution_count": 53
        }
      ]
    },
    {
      "cell_type": "code",
      "source": [
        "result_df.dropna(inplace=True)"
      ],
      "metadata": {
        "id": "0apD3WvIIecS"
      },
      "execution_count": null,
      "outputs": []
    },
    {
      "cell_type": "code",
      "source": [
        "result_df.shape"
      ],
      "metadata": {
        "colab": {
          "base_uri": "https://localhost:8080/"
        },
        "id": "Xtkk4NCVIh13",
        "outputId": "892fc671-5162-466c-dbf6-6cb1c2a53716"
      },
      "execution_count": null,
      "outputs": [
        {
          "output_type": "execute_result",
          "data": {
            "text/plain": [
              "(2305, 15)"
            ]
          },
          "metadata": {},
          "execution_count": 55
        }
      ]
    },
    {
      "cell_type": "code",
      "source": [
        "from transformers import BertForSequenceClassification, BertTokenizer\n",
        "import torch\n",
        "\n",
        "# Setup device\n",
        "device = torch.device(\"cuda\" if torch.cuda.is_available() else \"cpu\")\n",
        "\n",
        "# Load model and tokenizer\n",
        "model_path = '/content/drive/MyDrive/Modelsavetransformers/model_save3'\n",
        "model = BertForSequenceClassification.from_pretrained(model_path)\n",
        "tokenizer = BertTokenizer.from_pretrained(model_path)"
      ],
      "metadata": {
        "id": "4cdLgeee5SZi"
      },
      "execution_count": null,
      "outputs": []
    },
    {
      "cell_type": "code",
      "source": [
        "def get_model_output(text):\n",
        "    inputs = tokenizer(text, return_tensors=\"pt\", padding=True, truncation=True)\n",
        "    with torch.no_grad():\n",
        "        outputs = model(**inputs)\n",
        "    logits = outputs.logits\n",
        "    predicted_number = logits.squeeze().item()\n",
        "    return predicted_number"
      ],
      "metadata": {
        "id": "y33ttzK06CB-"
      },
      "execution_count": null,
      "outputs": []
    },
    {
      "cell_type": "code",
      "source": [
        "from tqdm import tqdm\n",
        "\n",
        "output_col = []\n",
        "for index, row in tqdm(result_df.iterrows(), total=len(result_df)):\n",
        "    text = row['SubjectParagraph']\n",
        "    output = get_model_output(text)\n",
        "    output_col.append(output)\n"
      ],
      "metadata": {
        "colab": {
          "base_uri": "https://localhost:8080/"
        },
        "id": "cGwehwm58YsC",
        "outputId": "5e746c64-8341-40c5-fbaa-04341c187466"
      },
      "execution_count": null,
      "outputs": [
        {
          "output_type": "stream",
          "name": "stderr",
          "text": [
            "100%|██████████| 2305/2305 [33:58<00:00,  1.13it/s]\n"
          ]
        }
      ]
    },
    {
      "cell_type": "code",
      "source": [
        "result_df['text_analysis_number'] = output_col"
      ],
      "metadata": {
        "id": "qYcPIwnI7bT2"
      },
      "execution_count": null,
      "outputs": []
    },
    {
      "cell_type": "code",
      "source": [
        "import matplotlib.pyplot as plt\n",
        "result_df['text_analysis_number'].plot(kind='line')\n",
        "plt.show()"
      ],
      "metadata": {
        "colab": {
          "base_uri": "https://localhost:8080/",
          "height": 430
        },
        "id": "1luN2VYVopcP",
        "outputId": "6fb98d94-9a44-4419-a04d-e7203b8856a3"
      },
      "execution_count": null,
      "outputs": [
        {
          "output_type": "display_data",
          "data": {
            "text/plain": [
              "<Figure size 640x480 with 1 Axes>"
            ],
            "image/png": "[encoded data removed]"
          },
          "metadata": {}
        }
      ]
    },
    {
      "cell_type": "code",
      "source": [
        "#result_df.to_csv('/content/drive/MyDrive/Modelsavetransformers/Deepfakemodel/preprocessed1.csv')\n",
        "result_df.to_csv('/content/drive/MyDrive/Modelsavetransformers/Deepfakemodel/Preprocessed1.csv', index=True)\n"
      ],
      "metadata": {
        "id": "hM8OudE_-_Qw"
      },
      "execution_count": null,
      "outputs": []
    },
    {
      "cell_type": "code",
      "source": [
        "column_max = result_df['text_analysis_number'].max()\n",
        "column_min = result_df['text_analysis_number'].min()\n",
        "print(\"Maximum value:\", column_max)\n",
        "print(\"Minimum value:\", column_min)"
      ],
      "metadata": {
        "colab": {
          "base_uri": "https://localhost:8080/"
        },
        "id": "twT8uI1Q_Ab_",
        "outputId": "4319faa8-bf79-41b9-8ac8-06aaad555d4c"
      },
      "execution_count": null,
      "outputs": [
        {
          "output_type": "stream",
          "name": "stdout",
          "text": [
            "Maximum value: 6.052966117858887\n",
            "Minimum value: -4.917088508605957\n"
          ]
        }
      ]
    },
    {
      "cell_type": "code",
      "source": [],
      "metadata": {
        "id": "Z2YzHuni_Auo"
      },
      "execution_count": null,
      "outputs": []
    },
    {
      "cell_type": "code",
      "source": [],
      "metadata": {
        "id": "VAIyxWFH_B9S"
      },
      "execution_count": null,
      "outputs": []
    }
  ]
}